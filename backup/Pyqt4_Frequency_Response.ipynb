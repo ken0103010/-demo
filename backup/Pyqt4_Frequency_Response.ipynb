{
 "cells": [
  {
   "cell_type": "code",
   "execution_count": 1,
   "metadata": {},
   "outputs": [
    {
     "name": "stderr",
     "output_type": "stream",
     "text": [
      "C:\\Python27\\lib\\site-packages\\numpy\\core\\numeric.py:460: ComplexWarning: Casting complex values to real discards the imaginary part\n",
      "  return array(a, dtype, copy=False, order=order)\n"
     ]
    },
    {
     "ename": "SystemExit",
     "evalue": "0",
     "output_type": "error",
     "traceback": [
      "An exception has occurred, use %tb to see the full traceback.\n",
      "\u001b[1;31mSystemExit\u001b[0m\u001b[1;31m:\u001b[0m 0\n"
     ]
    },
    {
     "name": "stderr",
     "output_type": "stream",
     "text": [
      "To exit: use 'exit', 'quit', or Ctrl-D.\n"
     ]
    }
   ],
   "source": [
    "import sys\n",
    "from PyQt4 import QtGui\n",
    " \n",
    "from matplotlib.backends.backend_qt4agg import FigureCanvasQTAgg as FigureCanvas\n",
    "from matplotlib.backends.backend_qt4agg import NavigationToolbar2QTAgg as NavigationToolbar\n",
    "import matplotlib.pyplot as plt\n",
    "import numpy as np\n",
    "from scipy import signal\n",
    " \n",
    "class Window(QtGui.QDialog):\n",
    "    def __init__(self, parent=None):\n",
    "        super(Window, self).__init__(parent)\n",
    "        self.resize(1000, 800)\n",
    "        self.figure = plt.figure()\n",
    "        self.canvas = FigureCanvas(self.figure)\n",
    " \n",
    "         \n",
    "        self.toolbar = NavigationToolbar(self.canvas, self)\n",
    "        self.toolbar.hide()\n",
    " \n",
    "        # Just some button    \n",
    "        self.button = QtGui.QPushButton('Plot')\n",
    "        self.button.clicked.connect(self.plotfilter)\n",
    "        \n",
    "        # set the layout\n",
    "        layout = QtGui.QVBoxLayout()\n",
    "        layout.addWidget(self.toolbar)\n",
    "        layout.addWidget(self.canvas)\n",
    "        layout.addWidget(self.button)\n",
    "\n",
    "        self.setLayout(layout)\n",
    "         \n",
    "        \n",
    "    def plotfilter(self):\n",
    "        ##### input signal ######\n",
    "        d, a = self.SetSignal()\n",
    "        t = np.arange(0, 1, 0.001)\n",
    "        data = d + a*np.cos(2*np.pi*5*t)\n",
    "        ax = self.figure.add_subplot(231)\n",
    "        ax.hold(False)\n",
    "        plt.plot(data)\n",
    "        plt.title('Input Signal')\n",
    "        plt.grid()\n",
    "        self.canvas.draw()\n",
    "        \n",
    "        ##### magnitude and phase ######\n",
    "        l = self.SetFilter()\n",
    "        w, h = signal.freqs(np.array([1] * l), np.array([1, 2] * l) / float(l), worN=np.linspace(-50, 50, 1000))\n",
    "        mag = self.figure.add_subplot(232)\n",
    "        mag.hold(False)\n",
    "        plt.plot(w, abs(h))\n",
    "        plt.xlabel('hat(w)')\n",
    "        plt.ylabel('Magnitude')\n",
    "        plt.title('Magnitude of the Filter')\n",
    "        plt.grid()\n",
    "        plt.xlim(np.min(w), np.max(w))\n",
    "        \n",
    "        pha = self.figure.add_subplot(235)\n",
    "        pha.hold(False)\n",
    "        plt.plot(w, np.angle(h))\n",
    "        plt.xlabel('hat(w)')\n",
    "        plt.ylabel('Phase(radians)')\n",
    "        plt.title('Phase of the Filter')\n",
    "        plt.grid()\n",
    "        plt.xlim(np.min(w), np.max(w))        \n",
    "        self.canvas.draw()\n",
    "        \n",
    "        ##### output signal ######\n",
    "        z = signal.convolve(data, h)\n",
    "        output = self.figure.add_subplot(233)\n",
    "        output.hold(False)\n",
    "        plt.plot(z)\n",
    "        plt.title('Output Signal')\n",
    "        plt.grid()        \n",
    "        self.canvas.draw()\n",
    "\n",
    "        \n",
    "    def SetSignal(self):        \n",
    "        d, ok = QtGui.QInputDialog.getDouble(self, 'Input Dialog','Enter offset:', 0, -100, 100)\n",
    "        a, ok = QtGui.QInputDialog.getDouble(self, 'Input Dialog','Enter amplitude:', 1, -100, 100)\n",
    "        if ok:\n",
    "            return d, a\n",
    "        \n",
    "    def SetFilter(self):        \n",
    "        length, ok = QtGui.QInputDialog.getInt(self, 'Input Dialog','Enter length:', 1, 0, 100)\n",
    "        if ok:\n",
    "            return length\n",
    "\n",
    " \n",
    "if __name__ == '__main__':\n",
    "    app = QtGui.QApplication(sys.argv)\n",
    " \n",
    "    main = Window()\n",
    "    main.setWindowTitle('Simple QTpy and MatplotLib example: Frequency Response')\n",
    "    main.show()\n",
    " \n",
    "    sys.exit(app.exec_())"
   ]
  },
  {
   "cell_type": "code",
   "execution_count": null,
   "metadata": {
    "collapsed": true
   },
   "outputs": [],
   "source": []
  }
 ],
 "metadata": {
  "kernelspec": {
   "display_name": "Python 3",
   "language": "python",
   "name": "python3"
  },
  "language_info": {
   "codemirror_mode": {
    "name": "ipython",
    "version": 3
   },
   "file_extension": ".py",
   "mimetype": "text/x-python",
   "name": "python",
   "nbconvert_exporter": "python",
   "pygments_lexer": "ipython3",
   "version": "3.6.4"
  }
 },
 "nbformat": 4,
 "nbformat_minor": 1
}
