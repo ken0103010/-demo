{
 "cells": [
  {
   "cell_type": "markdown",
   "metadata": {},
   "source": [
    "# 信號與系統實習期末專題: 心跳信號量測"
   ]
  },
  {
   "cell_type": "markdown",
   "metadata": {},
   "source": [
    "## 時程表\n",
    "\n",
    "* 12/19 分組、發放材料、Arduino 實驗板測試、心跳波形顯示\n",
    "* 12/26 自由使用實驗教室 9:10~11:30\n",
    "* 1/2 期末demo"
   ]
  },
  {
   "cell_type": "markdown",
   "metadata": {},
   "source": [
    "## 期末專題評分方式\n",
    "\n",
    "## (一) 即時心跳波形顯示佔 40%\n",
    "* Arduino 類比數位轉換參考程式碼 https://github.com/htygithub/SS_EXP/blob/master/heartbeat/analogread2.ino\n",
    "* Python 即時繪圖參考程式碼 https://github.com/htygithub/SS_EXP/blob/master/heartbeat/pulse_plot.py\n",
    "* 注意：嘗試計算並濾除直流準位會得到較好顯示效果\n",
    "\n",
    "## (二) 書面報告佔 20%\n",
    "* <b>每人</b>各别繳交一份，並附上組員互相評分，例如組員AB, A: 90，B:80\n",
    "* 報告繳交(1/1 5:00 PM)之前以pdf格式email至教師信箱 tyhuang@mail.ntust.edu.tw\n",
    "* 報告應包含(0)題目、組別、組員(1)簡介 (2)實驗方法及材料 (3)實驗結果 (4)結果討論 (5)參考文獻(若無，則寫無) (6)組員互相評分\n",
    "* 報告若包含任何於網路下載複製之文字或圖片，則報告以-100分計算\n",
    "* 請注意，報告需每人繳交一份，報告格式參考 https://tinyurl.com/rmcdghb\n",
    "* 除同隊組員外，各組間內容互相抄襲者，則報告以-100分計算。\n",
    "* 期末報告頁數應以1-2頁為原則\n",
    "* 每組應將程式碼上傳Github管理，並於報告中附上github連結\n",
    "* 除參考程式碼外，各組間程式碼互相抄襲者，則期末專題分數以零分計算\n",
    "\n",
    "\n",
    "\n",
    "## (三)額外加分項目各佔 5%\n",
    "* (1)即時信號頻譜顯示，橫軸以 (Hz)計算，並能看出心跳頻帶\n",
    "* (2)設計一FIR filter ，說明其設計過濾頻帶，畫出頻率響應圖，並顯示即時顯示信號濾波前後結果。\n",
    "* (3)以z-domain plot畫出你所設計的FIR濾波器之零點極點，注意，零點應調整增益使其位置在單位圓上\n",
    "* (4)即時心率計算\n",
    "* (5)1分鐘期末專題簡介影片製作，影片繳交(1/1 5:00 PM)之前以youtube連結繳交\n",
    "* (6)以科學實驗量測並記錄十人以上之心率，並探討系統之量測準確性，詳述於書面報告中\n",
    "* (7)視窗介面製作，應具備(按鈕、心率、濾波功能等要素)\n",
    "\n",
    "\n",
    "\n",
    "## (四)任選加分項目最多選擇一項，佔10%\n",
    "* (1)手機連結顯示波形及心率\n",
    "* (2)以網頁雲端介面即時顯示心跳波形及心率計算\n",
    "* (3)心率變異性(Heart Rate Variability, HRV)計算\n",
    "* (4)以AI模型辨認脈波之波峰\n",
    "\n",
    "## (五)組員人數\n",
    "* 以上(三)、(四)加分項目\n",
    "* 組員為1人: (三+四)*1.05\n",
    "* 組員為2人: (三+四)*1\n",
    "* 組員為3人: (三+四)*0.95\n",
    "\n",
    "\n",
    "\n",
    "\n",
    "\n"
   ]
  },
  {
   "cell_type": "code",
   "execution_count": null,
   "metadata": {},
   "outputs": [],
   "source": []
  }
 ],
 "metadata": {
  "kernelspec": {
   "display_name": "Python 3",
   "language": "python",
   "name": "python3"
  },
  "language_info": {
   "codemirror_mode": {
    "name": "ipython",
    "version": 3
   },
   "file_extension": ".py",
   "mimetype": "text/x-python",
   "name": "python",
   "nbconvert_exporter": "python",
   "pygments_lexer": "ipython3",
   "version": "3.8.3"
  }
 },
 "nbformat": 4,
 "nbformat_minor": 2
}
