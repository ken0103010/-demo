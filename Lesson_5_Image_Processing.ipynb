{
 "cells": [
  {
   "cell_type": "markdown",
   "metadata": {},
   "source": [
    "# 信號與系統實習\n",
    "\n",
    "\n",
    "## 實驗開始步驟：\n",
    "\n",
    "### (1)前往 https://github.com/htygithub/SS_EXP 點選右下角按鈕 \"Download Zip\"\n",
    "### (2)開啟 Lesson_5_Image_Processing\n",
    "\n",
    "## 實驗十六\n",
    "### 執行以下程式碼並觀察輸出\n",
    "### 影像以及濾波器"
   ]
  },
  {
   "cell_type": "code",
   "execution_count": null,
   "metadata": {},
   "outputs": [],
   "source": [
    "%matplotlib inline\n",
    "import matplotlib.pyplot as plt\n",
    "import numpy as np\n",
    "\n",
    "n = np.arange(256)\n",
    "x = np.cos(2*np.pi*n/256)\n",
    "img = np.zeros((256, 256))\n",
    "\n",
    "for ii in range(64, 192):\n",
    "    img[:, ii] = x\n",
    "plt.figure(figsize=(8,8))\n",
    "plt.imshow(img, cmap='gray')\n",
    "plt.colorbar()\n",
    "\n",
    "img2 = np.zeros((256, 256))\n",
    "for ii in range(64, 192):\n",
    "    img2[ii, :] = x\n",
    "plt.figure(figsize=(8,8))\n",
    "plt.imshow(img2, cmap='gray')\n",
    "plt.colorbar()\n",
    "\n",
    "signal = img[:, 128]\n",
    "plt.figure(figsize=(10,6))\n",
    "plt.plot(signal)"
   ]
  },
  {
   "cell_type": "markdown",
   "metadata": {},
   "source": [
    "## 問題十六\n",
    "### (1) 請製作一個256x256的黑白影像，影像背景為零。圖中，有一個\"甜甜圈\"，圓心位於(128, 128)，內圈是半徑為60 個像素的圓，外圈為80個像素的圓\n",
    "### (2)參考實驗14，設計一個FIR濾波器 bk = [1/4, -2/4, 1/4]。將影像的每一列視為一維信號並將以濾波，得到新的影像。並繪製出來\n",
    "### (3)同上題，改將每一\"行\"視為一維信號並將以濾波，得到新的影像。並繪製出來\n",
    "### (4) 上網查詢現成之 convolve指令, 用以下之2D kernel來過濾甜甜圈影像，並觀察結果\n",
    "```\n",
    "from scipy.ndimage.filters import convolve\n",
    "kernel = np.array([[-1, -1, -1],\n",
    "                   [-1,  8, -1],\n",
    "                   [-1, -1, -1]])\n",
    "```"
   ]
  },
  {
   "cell_type": "markdown",
   "metadata": {},
   "source": [
    "## 問題十七\n",
    "### 執行以下程式碼並觀察輸出\n",
    "### 影像開啟"
   ]
  },
  {
   "cell_type": "code",
   "execution_count": null,
   "metadata": {},
   "outputs": [],
   "source": [
    "%matplotlib inline\n",
    "import matplotlib.pyplot as plt\n",
    "import numpy as np\n",
    "lena_img = plt.imread('lena_std.jpg')\n",
    "lena_gray = np.mean(lena_img, axis=-1)\n",
    "print(lena_img.dtype, lena_img.shape)\n",
    "plt.figure(figsize=(8,8))\n",
    "plt.imshow(lena_img)\n",
    "plt.axis('off')\n",
    "\n",
    "plt.figure(figsize=(8,8))\n",
    "plt.imshow(lena_gray, cmap='gray')\n",
    "plt.axis('off')\n",
    "\n",
    "lena_noise = lena_gray.copy()\n",
    "lena_noise[np.random.random(lena_noise.shape) > 0.995] = 0\n",
    "lena_noise[np.random.random(lena_noise.shape) > 0.995] = 255\n",
    "plt.figure(figsize=(8,8))\n",
    "plt.imshow(lena_noise, cmap='gray')\n",
    "plt.axis('off')"
   ]
  },
  {
   "cell_type": "markdown",
   "metadata": {},
   "source": [
    "## 問題十七\n",
    "### (1) 參考問題十六，設計一9點平均kernel來對lena_noise濾波\n",
    "### (2) 上網搜尋medfilt使用方法，對lena_noise濾波並觀察結果，嘗試理解median filter之原理"
   ]
  }
 ],
 "metadata": {
  "kernelspec": {
   "display_name": "Python 3",
   "language": "python",
   "name": "python3"
  },
  "language_info": {
   "codemirror_mode": {
    "name": "ipython",
    "version": 3
   },
   "file_extension": ".py",
   "mimetype": "text/x-python",
   "name": "python",
   "nbconvert_exporter": "python",
   "pygments_lexer": "ipython3",
   "version": "3.6.4"
  }
 },
 "nbformat": 4,
 "nbformat_minor": 1
}
