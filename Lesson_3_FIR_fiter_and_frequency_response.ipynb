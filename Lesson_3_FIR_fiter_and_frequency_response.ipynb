{
 "cells": [
  {
   "cell_type": "markdown",
   "metadata": {},
   "source": [
    "# 信號與系統實習\n",
    "\n",
    "\n",
    "## 實驗開始步驟：\n",
    "\n",
    "### (1)前往 https://github.com/htygithub/SS_EXP 點選右下角按鈕 \"Download Zip\"\n",
    "### (2)開啟 Lesson_3_FIR_fiter_and_frequency_response\n",
    "\n",
    "## 實驗十二\n",
    "### FIR濾波器的應用\n",
    "### 執行以下程式碼並觀察輸出"
   ]
  },
  {
   "cell_type": "code",
   "execution_count": null,
   "metadata": {},
   "outputs": [],
   "source": [
    "%matplotlib inline\n",
    "import matplotlib.pyplot as plt\n",
    "import numpy as np\n",
    "from scipy.io import loadmat\n",
    "\n",
    "ecg_dict = loadmat('ecg.mat')\n",
    "ecg = ecg_dict['ecgOriginal'].flatten()\n",
    "fs = ecg_dict['fs'][0][0]\n",
    "print('ECG samples:', ecg.shape)\n",
    "print('Sampling frequency:', fs)\n",
    "t = np.arange(0, ecg.size/fs, 1/fs)\n",
    "plt.figure(figsize=(10,5), dpi=200)\n",
    "plt.plot(t, ecg)\n",
    "plt.title('Original (Clean) ECG');\n",
    "plt.ylabel(r'Amplitude [uV]')\n",
    "plt.xlabel('Time [s]')"
   ]
  },
  {
   "cell_type": "markdown",
   "metadata": {},
   "source": [
    "## 問題十二\n",
    "### 上圖為長度10秒之心電圖波形，用取樣頻率fs=250Hz 取樣，信號單位為uV\n",
    "### <BR>(1) 參考實驗十一為將信號取快速傅利葉轉換, 繪製出信號頻譜，橫軸以類比頻率(Hz)來表示。\n",
    "\n",
    "### <BR>(2) 產生一電力線偶合雜訊cos 波，Amplitude: 250uV, Phase: 0 rad, Frequency: 60 Hz，並繪製出受雜訊干擾之心電圖波形ecg_n\n",
    "\n",
    "### <BR>(3) 繪製出受雜訊干擾的心電圖頻譜，橫軸以類比頻率(Hz)來表示。\n",
    "    "
   ]
  },
  {
   "cell_type": "markdown",
   "metadata": {},
   "source": [
    "## 實驗十三\n",
    "### 傅利葉以及反傅利葉\n",
    "### 下圖之程式碼主要目的是將ecg轉換至頻率空間之後，將直流成份濾除後，再轉回時域\n",
    "### 執行以下程式碼並觀察輸出"
   ]
  },
  {
   "cell_type": "code",
   "execution_count": null,
   "metadata": {},
   "outputs": [],
   "source": [
    "xf = np.fft.fft(ecg)\n",
    "xf[0] = 0\n",
    "ecg2 = np.fft.ifft(xf)\n",
    "plt.figure(figsize=(10, 5), dpi=200)\n",
    "plt.plot(t, ecg)\n",
    "plt.plot(t, ecg2)\n",
    "plt.title('ECG');\n",
    "plt.ylabel(r'Amplitude [uV]')\n",
    "plt.xlabel('Time [s]')"
   ]
  },
  {
   "cell_type": "markdown",
   "metadata": {},
   "source": [
    "## 問題十三\n",
    "\n",
    "### <BR>(1) 參考實驗十三範例，先將受雜訊干擾之ecg_n，轉換至頻域後，將60Hz成份過濾掉再轉回時域，得到ecg_filtered。繪出ecg_filtered之時域及頻域信號\n",
    "\n",
    "### <BR>(2) 參考實驗十一，設計一個三點平均濾波器 FIR filter, bk = [1/3, 1/3, 1/3] 並將ecg_n送入觀察結果\n",
    "\n",
    "    "
   ]
  },
  {
   "cell_type": "markdown",
   "metadata": {},
   "source": [
    "## 實驗十四\n",
    "### 頻率響應\n",
    "### 下面程式用來觀察頻率為20Hz的信號，經過fs=250Hz 取樣，並送入3點平均濾波器後，振輻的改變。\n"
   ]
  },
  {
   "cell_type": "code",
   "execution_count": null,
   "metadata": {},
   "outputs": [],
   "source": [
    "from scipy import signal\n",
    "t = np.arange(0, ecg.size/fs, 1/fs)\n",
    "x = np.cos(2*np.pi*20*t)\n",
    "y = signal.lfilter([1/3, 1/3, 1/3], 1, x)\n",
    "\n",
    "print('Amplitude of x:', np.max(x))\n",
    "print('Amplitude of y:',np.max(y))\n",
    "plt.figure(figsize=(10, 5), dpi=200)\n",
    "plt.plot(t, x)\n",
    "plt.plot(t, y)"
   ]
  },
  {
   "cell_type": "markdown",
   "metadata": {},
   "source": [
    "## 問題十四\n",
    "\n",
    "### <BR>(1) 使用max來觀察弦波的振輻永遠正確嗎？\n",
    "    \n",
    "### <BR>(2) 改變輸入信號x之頻率由 0, 1, 2 ... 125Hz，觀察三點平均濾波器之輸出，並繪製出此FIR濾波器之等效頻率響應圖，橫軸為類比頻率(Hz)，縱軸為FIR filter之放大倍率。\n",
    "\n",
    "### <BR>(3) 將FIR 改為 bk = [1/4, -2/4, 1/4] 並觀察其頻率響應。請問此FIR濾波器為高通或是低通濾波器。\n",
    "    "
   ]
  },
  {
   "cell_type": "code",
   "execution_count": null,
   "metadata": {},
   "outputs": [],
   "source": []
  }
 ],
 "metadata": {
  "kernelspec": {
   "display_name": "Python 3",
   "language": "python",
   "name": "python3"
  },
  "language_info": {
   "codemirror_mode": {
    "name": "ipython",
    "version": 3
   },
   "file_extension": ".py",
   "mimetype": "text/x-python",
   "name": "python",
   "nbconvert_exporter": "python",
   "pygments_lexer": "ipython3",
   "version": "3.6.4"
  }
 },
 "nbformat": 4,
 "nbformat_minor": 1
}
