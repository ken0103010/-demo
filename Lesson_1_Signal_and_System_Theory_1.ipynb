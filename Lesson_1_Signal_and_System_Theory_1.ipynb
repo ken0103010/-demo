{
 "cells": [
  {
   "cell_type": "markdown",
   "metadata": {},
   "source": [
    "# 信號與系統實習\n",
    "\n",
    "\n",
    "## 實驗開始步驟：\n",
    "\n",
    "### (1)前往 https://github.com/htygithub/SS_EXP 點選右下角按鈕 \"Download Zip\"\n",
    "### (2)開啟 Lesson_1_Signal_and_System_Theory_1\n",
    "\n",
    "# 實驗六 :照片中的RGB色彩\n",
    "\n",
    "\n",
    "用滑鼠點選以下程式碼，並按下\"Play\"鈕執行看看結果<br>"
   ]
  },
  {
   "cell_type": "code",
   "execution_count": null,
   "metadata": {},
   "outputs": [],
   "source": [
    "!pip install imageio"
   ]
  },
  {
   "cell_type": "code",
   "execution_count": null,
   "metadata": {},
   "outputs": [],
   "source": [
    "#coding: utf-8\n",
    "%matplotlib inline\n",
    "import numpy as np\n",
    "import matplotlib.pyplot as plt\n",
    "import imageio\n",
    "\n",
    "lena_img = imageio.imread('lena_std.jpg')\n",
    "\n",
    "print('Matrix shape: ', lena_img.shape)\n",
    "plt.figure(figsize=[15, 5])\n",
    "plt.subplot(1, 4, 1)\n",
    "plt.imshow(lena_img)\n",
    "plt.title('Original')\n",
    "\n",
    "plt.subplot(1, 4, 2)\n",
    "plt.imshow(lena_img[:, :, 2], cmap='gray')\n",
    "plt.title('Fig. 1')\n",
    "plt.subplot(1, 4, 3)\n",
    "plt.imshow(lena_img[:, :, 1], cmap='gray')\n",
    "plt.title('Fig. 2')\n",
    "plt.subplot(1, 4, 4)\n",
    "plt.imshow(lena_img[:, :, 0], cmap='gray')\n",
    "plt.title('Fig. 3')"
   ]
  },
  {
   "cell_type": "markdown",
   "metadata": {},
   "source": [
    "# 問題六\n",
    "(1)Fig.1 , 2, 3 代表Lena 圖其中的三原色，若紅光影像數值愈高者(愈白愈亮)，代表該像素的中的紅光成份愈高。<br>\n",
    "請用肉眼觀察以及程式碼的觀察，來說明Fig. 1, 2,3 各代表 R、G、B 中的那一原色。<br>\n",
    "(2)新增一個code 區塊，將Lena影像中的紅色影像減少20%。<BR>\n",
    "(hint: lena_img[:,:,X]=lena_img[:,:,X]*0.9, 就代表將X色光通道減弱 10%)\n",
    "\n",
    "****************************************************************************************"
   ]
  },
  {
   "cell_type": "markdown",
   "metadata": {},
   "source": [
    "## 實驗七 介面範例：\n",
    "\n",
    "玩玩看以下範例，並回答以下問題\n"
   ]
  },
  {
   "cell_type": "code",
   "execution_count": null,
   "metadata": {},
   "outputs": [],
   "source": [
    "#coding: utf-8\n",
    "%matplotlib inline\n",
    "import numpy as np\n",
    "import imageio\n",
    "import matplotlib.pyplot as plt\n",
    "from ipywidgets import interact, interactive, fixed\n",
    "from IPython.display import display\n",
    "\n",
    "lena_img = imageio.imread('lena_std.jpg')\n",
    "\n",
    "lims = (0.1, 1.0, 0.1)\n",
    "\n",
    "def edit_image(r=1.0, g=1.0, b=1.0):\n",
    "    lena_img2 = lena_img*0\n",
    "    lena_img2[:, :, 0] = r*lena_img[:, :, 0]\n",
    "    lena_img2[:, :, 1] = g*lena_img[:, :, 1]\n",
    "    lena_img2[:, :, 2] = b*lena_img[:, :, 2]\n",
    "    \n",
    "    plt.imshow(lena_img2)\n",
    "\n",
    "w = interactive(edit_image, r=lims, g=lims, b=lims)\n",
    "display(w)\n"
   ]
  },
  {
   "cell_type": "markdown",
   "metadata": {},
   "source": [
    "問題：上網搜尋 skimage.transform.rotate 的使用方法，將上述介面增加一項新的滑桿。\n",
    "用這個滑桿可以調整Lena影像的旋轉角度。\n"
   ]
  },
  {
   "cell_type": "markdown",
   "metadata": {
    "collapsed": true
   },
   "source": [
    "## 實驗八 弦波的運算：\n",
    "\n",
    "執行範例後觀察：\n",
    "\n",
    "下圖範例藍線為取樣頻率為1Hz之弦波\n",
    "x(t) = cos(2\\*pi\\*t)\n",
    "因為在數位世界裏我們以取樣頻率1000Hz 來取樣\n",
    "x[n] = x(nTs) = x(0.001n) = cos(2\\*pi\\*0.001n)\n"
   ]
  },
  {
   "cell_type": "code",
   "execution_count": null,
   "metadata": {},
   "outputs": [],
   "source": [
    "%matplotlib inline\n",
    "import matplotlib.pyplot as plt\n",
    "import numpy as np\n",
    "t = np.arange(0, 1, 0.001)\n",
    "x = np.cos(2*np.pi*t)\n",
    "plt.figure(figsize=[10, 5], dpi=100)\n",
    "plt.plot(t, np.cos(2*np.pi*t))\n",
    "plt.plot(t, np.cos(2*np.pi*t + np.pi/2))\n",
    "plt.grid(True)"
   ]
  },
  {
   "cell_type": "markdown",
   "metadata": {},
   "source": [
    "## 問題八: 將兩個旋波相加後，並畫在一起。\n",
    "    \n",
    "### (1) 產生兩個cos弦波 \n",
    "<BR>X1: Amplitude: 1, Phase: 0 rad, Frequency: 5 Hz\n",
    "<BR>X2: Amplitude: 0.7, Phase: pi rad, Frequency: 5 Hz\n",
    "<BR>X3 = X1 + X2\n",
    "\n",
    "### (2)就你的觀察X3的頻率為何？\n",
    "\n",
    "### (3) 使用np.real, np.exp函式，將cos 表示成 complex exponetial 之實部函數，重覆上述動作\n",
    "\n",
    "### $$\\cos(\\omega t) = \\mathrm{Re}[ e^{j\\omega t}] $$\n",
    "\n"
   ]
  },
  {
   "cell_type": "markdown",
   "metadata": {},
   "source": [
    "## 實驗九 取樣定理：\n",
    "\n",
    "執行範例後觀察：\n",
    "\n",
    "下圖範例為100Hz 弦波以 100Hz取樣之結果"
   ]
  },
  {
   "cell_type": "code",
   "execution_count": null,
   "metadata": {},
   "outputs": [],
   "source": [
    "%matplotlib inline\n",
    "import matplotlib.pyplot as plt\n",
    "import numpy as np\n",
    "t10000 = np.arange(0, 1, 0.0001)\n",
    "\n",
    "t100 = np.arange(0, 1, 0.01)\n",
    "\n",
    "x = np.cos(2*np.pi*t)\n",
    "plt.figure(figsize=[10, 5], dpi=100)\n",
    "plt.plot(t10000, np.cos(2*np.pi*10*t10000))\n",
    "plt.plot(t100, np.cos(2*np.pi*10*t100), 'o--')\n",
    "\n",
    "\n",
    "plt.grid(True)"
   ]
  },
  {
   "cell_type": "markdown",
   "metadata": {},
   "source": [
    "### 問題九\n",
    "\n",
    "<BR> (1) 以10000Hz 為取樣頻率，同時繪出 12 Hz之偽連續波形，再以10 Hz為取樣頻率，標示出此波形之取樣點\n",
    "<BR> (2) 重覆(1)，並將弦波頻率改為2Hz, 觀察2Hz以及12Hz之取樣波形異同之處"
   ]
  }
 ],
 "metadata": {
  "kernelspec": {
   "display_name": "Python 3",
   "language": "python",
   "name": "python3"
  },
  "language_info": {
   "codemirror_mode": {
    "name": "ipython",
    "version": 3
   },
   "file_extension": ".py",
   "mimetype": "text/x-python",
   "name": "python",
   "nbconvert_exporter": "python",
   "pygments_lexer": "ipython3",
   "version": "3.6.4"
  }
 },
 "nbformat": 4,
 "nbformat_minor": 1
}
